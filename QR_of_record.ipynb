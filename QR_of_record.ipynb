{
  "nbformat": 4,
  "nbformat_minor": 0,
  "metadata": {
    "colab": {
      "provenance": []
    },
    "kernelspec": {
      "name": "python3",
      "display_name": "Python 3"
    },
    "language_info": {
      "name": "python"
    }
  },
  "cells": [
    {
      "cell_type": "code",
      "execution_count": 1,
      "metadata": {
        "colab": {
          "base_uri": "https://localhost:8080/"
        },
        "id": "l0uJuuexl_D4",
        "outputId": "8bc4ff32-3410-4faa-f2ce-ec9c4ab12fe2"
      },
      "outputs": [
        {
          "output_type": "stream",
          "name": "stdout",
          "text": [
            "Collecting qrcode\n",
            "  Downloading qrcode-7.4.2-py3-none-any.whl.metadata (17 kB)\n",
            "Requirement already satisfied: typing-extensions in /usr/local/lib/python3.10/dist-packages (from qrcode) (4.12.2)\n",
            "Collecting pypng (from qrcode)\n",
            "  Downloading pypng-0.20220715.0-py3-none-any.whl.metadata (13 kB)\n",
            "Downloading qrcode-7.4.2-py3-none-any.whl (46 kB)\n",
            "\u001b[2K   \u001b[90m━━━━━━━━━━━━━━━━━━━━━━━━━━━━━━━━━━━━━━━━\u001b[0m \u001b[32m46.2/46.2 kB\u001b[0m \u001b[31m2.1 MB/s\u001b[0m eta \u001b[36m0:00:00\u001b[0m\n",
            "\u001b[?25hDownloading pypng-0.20220715.0-py3-none-any.whl (58 kB)\n",
            "\u001b[2K   \u001b[90m━━━━━━━━━━━━━━━━━━━━━━━━━━━━━━━━━━━━━━━━\u001b[0m \u001b[32m58.1/58.1 kB\u001b[0m \u001b[31m2.7 MB/s\u001b[0m eta \u001b[36m0:00:00\u001b[0m\n",
            "\u001b[?25hInstalling collected packages: pypng, qrcode\n",
            "Successfully installed pypng-0.20220715.0 qrcode-7.4.2\n"
          ]
        }
      ],
      "source": [
        "pip install qrcode"
      ]
    },
    {
      "cell_type": "code",
      "source": [
        "import qrcode\n",
        "import pandas as pd\n",
        "import os"
      ],
      "metadata": {
        "id": "5DWUt3K7mfAo"
      },
      "execution_count": 7,
      "outputs": []
    },
    {
      "cell_type": "code",
      "source": [
        "# DEMO RECORD (TESTING PUPOSES)\n",
        "marks_data = pd.DataFrame({'Name': {0: \"Name1 Sur1\", 1: \"Name2 Sur2\"},\n",
        "                           'F_name' : {0 : \"F1\", 1: \"F2\"},\n",
        "                           'address' : {0 : \"Addre1\", 1 : \"Addr2\"}})\n",
        "file_name = 'TestData.xlsx'\n",
        "marks_data.to_excel(file_name)\n",
        "print('DataFrame is written to Excel File successfully.')\n"
      ],
      "metadata": {
        "colab": {
          "base_uri": "https://localhost:8080/"
        },
        "id": "UuhZha_lmx8v",
        "outputId": "b4cc9fe9-5b1a-49a0-dc27-bc7dcd6698f6"
      },
      "execution_count": 3,
      "outputs": [
        {
          "output_type": "stream",
          "name": "stdout",
          "text": [
            "DataFrame is written to Excel File successfully.\n"
          ]
        }
      ]
    },
    {
      "cell_type": "code",
      "source": [
        "excel_file = \"/content/TestData.xlsx\"  # CHANGE THIS\n",
        "df = pd.read_excel(excel_file)\n",
        "\n",
        "qr_path = \"QR_Folder\"\n",
        "os.mkdir(qr_path)"
      ],
      "metadata": {
        "id": "usFfQh6zmill"
      },
      "execution_count": 8,
      "outputs": []
    },
    {
      "cell_type": "code",
      "source": [
        "for index, row in df.iterrows():\n",
        "    data = ', '.join(map(str, row.values))\n",
        "\n",
        "    qr = qrcode.QRCode(\n",
        "        version=1,\n",
        "        error_correction=qrcode.constants.ERROR_CORRECT_L,\n",
        "        box_size=10,\n",
        "        border=4,\n",
        "    )\n",
        "    qr.add_data(data)\n",
        "    qr.make(fit=True)\n",
        "\n",
        "    img = qr.make_image(fill_color=\"black\", back_color=\"white\")\n",
        "\n",
        "    img.save(f\"{qr_path}/qrcode_row_{index}.png\")\n",
        "\n",
        "    print(f\"Data {index} Saved\") ## Testing\n",
        "\n",
        "print(\"QR codes generated and saved successfully.\")"
      ],
      "metadata": {
        "colab": {
          "base_uri": "https://localhost:8080/"
        },
        "id": "MGNyFsBVnwFZ",
        "outputId": "07b19beb-1256-41cd-9442-b0f6cb3f4c37"
      },
      "execution_count": 9,
      "outputs": [
        {
          "output_type": "stream",
          "name": "stdout",
          "text": [
            "Data 0 Saved\n",
            "Data 1 Saved\n",
            "QR codes generated and saved successfully.\n"
          ]
        }
      ]
    },
    {
      "cell_type": "code",
      "source": [],
      "metadata": {
        "id": "5LrXnenNoAfA"
      },
      "execution_count": null,
      "outputs": []
    }
  ]
}